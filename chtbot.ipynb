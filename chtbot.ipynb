{
 "cells": [
  {
   "cell_type": "code",
   "execution_count": 2,
   "outputs": [
    {
     "name": "stderr",
     "output_type": "stream",
     "text": [
      "[nltk_data] Downloading package punkt to C:\\Users\\N'DAH\n",
      "[nltk_data]     ARNAUD\\AppData\\Roaming\\nltk_data...\n",
      "[nltk_data]   Unzipping tokenizers\\punkt.zip.\n",
      "[nltk_data] Downloading package averaged_perceptron_tagger to\n",
      "[nltk_data]     C:\\Users\\N'DAH ARNAUD\\AppData\\Roaming\\nltk_data...\n",
      "[nltk_data]   Unzipping taggers\\averaged_perceptron_tagger.zip.\n"
     ]
    }
   ],
   "source": [
    "import nltk\n",
    "nltk.download('punkt')\n",
    "nltk.download('averaged_perceptron_tagger')\n",
    "from nltk.tokenize import word_tokenize, sent_tokenize\n",
    "from nltk.corpus import stopwords\n",
    "from nltk.stem import WordNetLemmatizer\n",
    "import string\n",
    "import streamlit as st"
   ],
   "metadata": {
    "collapsed": false,
    "ExecuteTime": {
     "end_time": "2023-10-26T20:23:51.205470600Z",
     "start_time": "2023-10-26T20:22:30.197946600Z"
    }
   }
  },
  {
   "cell_type": "code",
   "execution_count": null,
   "outputs": [],
   "source": [
    "# Load the text file and preprocess the data\n",
    "with open('assurance.txt', 'r', encoding='utf-8') as f:\n",
    "    data = f.read().replace('\\n', ' ')\n",
    "# Tokenize the text into sentences\n",
    "sentences = sent_tokenize(data)\n",
    "# Define a function to preprocess each sentence\n",
    "def preprocess(sentence):\n",
    "    # Tokenize the sentence into words\n",
    "    words = word_tokenize(sentence)\n",
    "    # Remove stopwords and punctuation\n",
    "    words = [word.lower() for word in words if word.lower() not in stopwords.words('english') and word not in string.punctuation]\n",
    "    # Lemmatize the words\n",
    "    lemmatizer = WordNetLemmatizer()\n",
    "    words = [lemmatizer.lemmatize(word) for word in words]\n",
    "    return words\n",
    "\n",
    "# Preprocess each sentence in the text\n",
    "corpus = [preprocess(sentence) for sentence in sentences]"
   ],
   "metadata": {
    "collapsed": false
   }
  },
  {
   "cell_type": "code",
   "execution_count": null,
   "outputs": [],
   "source": [
    "# Define a function to find the most relevant sentence given a query\n",
    "def get_most_relevant_sentence(query):\n",
    "    # Preprocess the query\n",
    "    query = preprocess(query)\n",
    "    # Compute the similarity between the query and each sentence in the text\n",
    "    max_similarity = 0\n",
    "    most_relevant_sentence = \"\"\n",
    "    for sentence in corpus:\n",
    "        similarity = len(set(query).intersection(sentence)) / float(len(set(query).union(sentence)))\n",
    "        if similarity > max_similarity:\n",
    "            max_similarity = similarity\n",
    "            most_relevant_sentence = \" \".join(sentence)\n",
    "    return most_relevant_sentence\n"
   ],
   "metadata": {
    "collapsed": false
   }
  },
  {
   "cell_type": "code",
   "execution_count": null,
   "outputs": [],
   "source": [
    "def chatbot(question):\n",
    "    # Find the most relevant sentence\n",
    "    most_relevant_sentence = get_most_relevant_sentence(question)\n",
    "    # Return the answer\n",
    "    return most_relevant_sentence"
   ],
   "metadata": {
    "collapsed": false
   }
  }
 ],
 "metadata": {
  "kernelspec": {
   "display_name": "Python 3",
   "language": "python",
   "name": "python3"
  },
  "language_info": {
   "codemirror_mode": {
    "name": "ipython",
    "version": 2
   },
   "file_extension": ".py",
   "mimetype": "text/x-python",
   "name": "python",
   "nbconvert_exporter": "python",
   "pygments_lexer": "ipython2",
   "version": "2.7.6"
  }
 },
 "nbformat": 4,
 "nbformat_minor": 0
}
